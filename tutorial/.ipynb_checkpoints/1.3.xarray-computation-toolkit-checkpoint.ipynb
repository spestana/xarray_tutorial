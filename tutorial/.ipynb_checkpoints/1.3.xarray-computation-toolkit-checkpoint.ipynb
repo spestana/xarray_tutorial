{
 "cells": [
  {
   "cell_type": "markdown",
   "metadata": {},
   "source": [
    "# Computation with Xarray\n",
    "\n",
    "- Aggregation: calculation of statistics (e.g. sum) along a dimension of an xarray object can be done by dimension name instead of an integer axis number.\n",
    "- Arithmetic: arithmetic between xarray objects vectorizes based on dimension names, automatically looping (broadcasting) over each distinct dimension. This eliminates the need to insert dummy dimensions of size one to facilitate broadcasting, a common pattern with NumPy.\n",
    "- Split-apply-combine: xarray includes N-dimensional grouped operations implementing the split-apply-combine strategy [24].\n",
    "- Resampling and rolling window operations: Utilizing the efficient resampling methods from pandas and rolling window operations from Bottleneck [15], xarray offers a robust set of resampling and rolling window operations along a single dimension.\n",
    "\n",
    "\n",
    "### Outline\n",
    "- Arithmetic\n",
    "- Aggregation\n",
    "- Groupby and resample\n",
    "- Rolling\n",
    "- Universal Functions\n",
    "\n",
    "### Tutorial Duriation\n",
    "10 minutes\n",
    "\n",
    "### Going Further\n",
    "\n",
    "- Xarray documentation on its Computation Toolkit: http://xarray.pydata.org/en/latest/computation.html\n",
    "- Xarray documentation on Groupby: http://xarray.pydata.org/en/latest/groupby.html"
   ]
  },
  {
   "cell_type": "code",
   "execution_count": 1,
   "metadata": {},
   "outputs": [],
   "source": [
    "import numpy as np\n",
    "import xarray as xr"
   ]
  },
  {
   "cell_type": "code",
   "execution_count": 2,
   "metadata": {},
   "outputs": [
    {
     "data": {
      "text/plain": [
       "<xarray.Dataset>\n",
       "Dimensions:  (time: 36, x: 275, y: 205)\n",
       "Coordinates:\n",
       "  * time     (time) datetime64[ns] 1980-09-16T12:00:00 1980-10-17 ...\n",
       "    xc       (y, x) float64 189.2 189.4 189.6 189.7 189.9 190.1 190.2 190.4 ...\n",
       "    yc       (y, x) float64 16.53 16.78 17.02 17.27 17.51 17.76 18.0 18.25 ...\n",
       "Dimensions without coordinates: x, y\n",
       "Data variables:\n",
       "    Tair     (time, y, x) float64 nan nan nan nan nan nan nan nan nan nan ...\n",
       "Attributes:\n",
       "    title:                     /workspace/jhamman/processed/R1002RBRxaaa01a/l...\n",
       "    institution:               U.W.\n",
       "    source:                    RACM R1002RBRxaaa01a\n",
       "    output_frequency:          daily\n",
       "    output_mode:               averaged\n",
       "    convention:                CF-1.4\n",
       "    references:                Based on the initial model of Liang et al., 19...\n",
       "    comment:                   Output from the Variable Infiltration Capacity...\n",
       "    nco_openmp_thread_number:  1\n",
       "    NCO:                       \"4.6.0\"\n",
       "    history:                   Tue Dec 27 14:15:22 2016: ncatted -a dimension..."
      ]
     },
     "execution_count": 2,
     "metadata": {},
     "output_type": "execute_result"
    }
   ],
   "source": [
    "ds = xr.tutorial.load_dataset('rasm')\n",
    "da = ds['Tair']\n",
    "\n",
    "ds"
   ]
  },
  {
   "cell_type": "markdown",
   "metadata": {},
   "source": [
    "## Aggregation\n",
    "\n",
    "Xarray supports many of the aggregations methods that numpy has. A partial list includes: all, any, argmax, argmin, max, mean, median, min, prod, sum, std, var.\n",
    "\n",
    "Whereas the numpy syntax would require scalar axes, xarray can use dimension names:"
   ]
  },
  {
   "cell_type": "code",
   "execution_count": 3,
   "metadata": {},
   "outputs": [
    {
     "data": {
      "text/plain": [
       "<xarray.DataArray 'Tair' (time: 36)>\n",
       "array([  8.187292,  -0.701279,  -8.989001, -13.33163 , -17.543701, -13.953285,\n",
       "        -9.637722,  -1.184811,   7.132873,  13.952738,  16.384343,  14.068569,\n",
       "         7.338234,  -0.829985,  -9.569686, -15.55521 , -14.894763, -13.627037,\n",
       "        -7.330606,  -0.204381,   7.476237,  14.240214,  16.800985,  14.197385,\n",
       "         7.263972,  -1.248844,  -9.65014 , -14.568823, -18.896039, -14.423475,\n",
       "        -9.778501,  -0.375954,   7.349978,  13.93472 ,  16.746357,  13.864375])\n",
       "Coordinates:\n",
       "  * time     (time) datetime64[ns] 1980-09-16T12:00:00 1980-10-17 ..."
      ]
     },
     "execution_count": 3,
     "metadata": {},
     "output_type": "execute_result"
    }
   ],
   "source": [
    "da.mean(dim=('x', 'y'))"
   ]
  },
  {
   "cell_type": "markdown",
   "metadata": {},
   "source": [
    "## Arithmetic\n",
    "\n",
    "Arithmetic operations with a single DataArray automatically vectorize (like numpy) over all array values:"
   ]
  },
  {
   "cell_type": "code",
   "execution_count": 4,
   "metadata": {},
   "outputs": [
    {
     "data": {
      "text/plain": [
       "<xarray.DataArray 'Tair' (time: 36, y: 205, x: 275)>\n",
       "array([[[        nan,         nan, ...,         nan,         nan],\n",
       "        [        nan,         nan, ...,         nan,         nan],\n",
       "        ...,\n",
       "        [        nan,         nan, ..., -246.347381, -246.063965],\n",
       "        [        nan,         nan, ..., -246.585261, -246.419351]],\n",
       "\n",
       "       [[        nan,         nan, ...,         nan,         nan],\n",
       "        [        nan,         nan, ...,         nan,         nan],\n",
       "        ...,\n",
       "        [        nan,         nan, ..., -248.85376 , -248.535776],\n",
       "        [        nan,         nan, ..., -248.850323, -248.695601]],\n",
       "\n",
       "       ...,\n",
       "\n",
       "       [[        nan,         nan, ...,         nan,         nan],\n",
       "        [        nan,         nan, ...,         nan,         nan],\n",
       "        ...,\n",
       "        [        nan,         nan, ..., -245.838951, -245.476128],\n",
       "        [        nan,         nan, ..., -246.141106, -245.91982 ]],\n",
       "\n",
       "       [[        nan,         nan, ...,         nan,         nan],\n",
       "        [        nan,         nan, ...,         nan,         nan],\n",
       "        ...,\n",
       "        [        nan,         nan, ..., -244.727264, -244.462788],\n",
       "        [        nan,         nan, ..., -244.964045, -244.94247 ]]])\n",
       "Coordinates:\n",
       "  * time     (time) datetime64[ns] 1980-09-16T12:00:00 1980-10-17 ...\n",
       "    xc       (y, x) float64 189.2 189.4 189.6 189.7 189.9 190.1 190.2 190.4 ...\n",
       "    yc       (y, x) float64 16.53 16.78 17.02 17.27 17.51 17.76 18.0 18.25 ...\n",
       "Dimensions without coordinates: y, x"
      ]
     },
     "execution_count": 4,
     "metadata": {},
     "output_type": "execute_result"
    }
   ],
   "source": [
    "# dataarray + scalars\n",
    "da - 273.15  # (K --> C)"
   ]
  },
  {
   "cell_type": "markdown",
   "metadata": {},
   "source": [
    "Here we do two computations:\n",
    "1. Calculate the time-mean\n",
    "2. Calculate the \"anomalies\" relative to the time mean"
   ]
  },
  {
   "cell_type": "code",
   "execution_count": 5,
   "metadata": {},
   "outputs": [
    {
     "data": {
      "text/plain": [
       "<xarray.DataArray 'Tair' (y: 205, x: 275)>\n",
       "array([[      nan,       nan,       nan, ...,       nan,       nan,       nan],\n",
       "       [      nan,       nan,       nan, ...,       nan,       nan,       nan],\n",
       "       [      nan,       nan,       nan, ...,       nan,       nan,       nan],\n",
       "       ...,\n",
       "       [      nan,       nan,       nan, ..., 20.93361 , 20.807458, 21.025313],\n",
       "       [      nan,       nan,       nan, ..., 21.170736, 20.566793, 20.836219],\n",
       "       [      nan,       nan,       nan, ..., 20.862633, 20.515146, 20.688632]])\n",
       "Coordinates:\n",
       "    xc       (y, x) float64 189.2 189.4 189.6 189.7 189.9 190.1 190.2 190.4 ...\n",
       "    yc       (y, x) float64 16.53 16.78 17.02 17.27 17.51 17.76 18.0 18.25 ...\n",
       "Dimensions without coordinates: y, x"
      ]
     },
     "execution_count": 5,
     "metadata": {},
     "output_type": "execute_result"
    }
   ],
   "source": [
    "da_mean = da.mean(dim='time')\n",
    "da_mean"
   ]
  },
  {
   "cell_type": "code",
   "execution_count": 6,
   "metadata": {},
   "outputs": [
    {
     "data": {
      "text/plain": [
       "<xarray.DataArray 'Tair' (time: 36, y: 205, x: 275)>\n",
       "array([[[     nan,      nan, ...,      nan,      nan],\n",
       "        [     nan,      nan, ...,      nan,      nan],\n",
       "        ...,\n",
       "        [     nan,      nan, ..., 6.235826, 6.249816],\n",
       "        [     nan,      nan, ..., 6.049592, 6.042018]],\n",
       "\n",
       "       [[     nan,      nan, ...,      nan,      nan],\n",
       "        [     nan,      nan, ...,      nan,      nan],\n",
       "        ...,\n",
       "        [     nan,      nan, ..., 3.729447, 3.778006],\n",
       "        [     nan,      nan, ..., 3.784531, 3.765768]],\n",
       "\n",
       "       ...,\n",
       "\n",
       "       [[     nan,      nan, ...,      nan,      nan],\n",
       "        [     nan,      nan, ...,      nan,      nan],\n",
       "        ...,\n",
       "        [     nan,      nan, ..., 6.744256, 6.837653],\n",
       "        [     nan,      nan, ..., 6.493748, 6.541548]],\n",
       "\n",
       "       [[     nan,      nan, ...,      nan,      nan],\n",
       "        [     nan,      nan, ...,      nan,      nan],\n",
       "        ...,\n",
       "        [     nan,      nan, ..., 7.855943, 7.850993],\n",
       "        [     nan,      nan, ..., 7.670809, 7.518899]]])\n",
       "Coordinates:\n",
       "  * time     (time) datetime64[ns] 1980-09-16T12:00:00 1980-10-17 ...\n",
       "    xc       (y, x) float64 189.2 189.4 189.6 189.7 189.9 190.1 190.2 190.4 ...\n",
       "    yc       (y, x) float64 16.53 16.78 17.02 17.27 17.51 17.76 18.0 18.25 ...\n",
       "Dimensions without coordinates: y, x"
      ]
     },
     "execution_count": 6,
     "metadata": {},
     "output_type": "execute_result"
    }
   ],
   "source": [
    "# dataarray + dataarray\n",
    "da - da_mean  \n",
    "\n",
    "# Notice that this required broadcasting along the time dimension"
   ]
  },
  {
   "cell_type": "markdown",
   "metadata": {},
   "source": [
    "## Groupby\n",
    "\n",
    "xarray supports “group by” operations with the same API as pandas to implement the split-apply-combine strategy:\n",
    "\n",
    "- Split your data into multiple independent groups.\n",
    "- Apply some function to each group.\n",
    "- Combine your groups back into a single data object.\n",
    "\n",
    "Group by operations work on both Dataset and DataArray objects. Most of the examples focus on grouping by a single one-dimensional variable, although support for grouping over a multi-dimensional variable has recently been implemented."
   ]
  },
  {
   "cell_type": "code",
   "execution_count": null,
   "metadata": {},
   "outputs": [],
   "source": [
    "# Using groupby to calculate a monthly climatology:\n",
    "\n",
    "da_climatology = da.groupby('time.month').mean('time')\n",
    "\n",
    "da_climatology"
   ]
  },
  {
   "cell_type": "markdown",
   "metadata": {},
   "source": [
    "In this case, we provide what we refer to as a virtual variable (`time.month`). Other virtual variables include:\n",
    "“year”, “month”, “day”, “hour”, “minute”, “second”, “dayofyear”, “week”, “dayofweek”, “weekday” and “quarter”. It is also possible to use another DataArray or pandas object as the grouper."
   ]
  },
  {
   "cell_type": "markdown",
   "metadata": {},
   "source": [
    "## Rolling Operations\n",
    "\n",
    "Xarray objects include a rolling method to support rolling window aggregations:"
   ]
  },
  {
   "cell_type": "code",
   "execution_count": null,
   "metadata": {},
   "outputs": [],
   "source": [
    "roller = da.rolling(time=3)\n",
    "roller"
   ]
  },
  {
   "cell_type": "code",
   "execution_count": null,
   "metadata": {},
   "outputs": [],
   "source": [
    "roller.mean()"
   ]
  },
  {
   "cell_type": "code",
   "execution_count": null,
   "metadata": {},
   "outputs": [],
   "source": [
    "# we can also provide a custom function \n",
    "\n",
    "def sum_minus_2(da, axis):\n",
    "    return da.sum(axis=axis) - 2\n",
    "\n",
    "roller.reduce(sum_minus_2)"
   ]
  },
  {
   "cell_type": "markdown",
   "metadata": {},
   "source": [
    "## Universal Functions\n",
    "\n",
    "In practice, not all use standard functions/methods from numpy and xarray is not allways possible. Sometimes there is good reason to work with numpy/dask array's directly. \n",
    "\n",
    "Xarray's documentation on wrapping custom computations: http://xarray.pydata.org/en/latest/computation.html#wrapping-custom-computation"
   ]
  },
  {
   "cell_type": "code",
   "execution_count": null,
   "metadata": {},
   "outputs": [],
   "source": [
    "da_noise = da + np.random.random(size=da.shape)\n",
    "da_noise"
   ]
  },
  {
   "cell_type": "code",
   "execution_count": null,
   "metadata": {},
   "outputs": [],
   "source": [
    "# some example legacy code to calculate the spearman correlation coefficient\n",
    "\n",
    "import bottleneck\n",
    "\n",
    "\n",
    "def covariance_gufunc(x, y):\n",
    "    return ((x - x.mean(axis=-1, keepdims=True))\n",
    "            * (y - y.mean(axis=-1, keepdims=True))).mean(axis=-1)\n",
    "\n",
    "def correlation_gufunc(x, y):\n",
    "    return covariance_gufunc(x, y) / (x.std(axis=-1) * y.std(axis=-1))\n",
    "\n",
    "def spearman_correlation_gufunc(x, y):\n",
    "    x_ranks = bottleneck.rankdata(x, axis=-1)\n",
    "    y_ranks = bottleneck.rankdata(y, axis=-1)\n",
    "    return correlation_gufunc(x_ranks, y_ranks)"
   ]
  },
  {
   "cell_type": "code",
   "execution_count": null,
   "metadata": {},
   "outputs": [],
   "source": [
    "# Wrap the \"legacy code\" with xarray's apply_ufunc. \n",
    "def spearman_correlation(x, y, dim):\n",
    "    return xr.apply_ufunc(\n",
    "        spearman_correlation_gufunc, x, y,\n",
    "        input_core_dims=[[dim], [dim]],\n",
    "        dask='parallelized',\n",
    "        output_dtypes=[float])"
   ]
  },
  {
   "cell_type": "code",
   "execution_count": null,
   "metadata": {},
   "outputs": [],
   "source": [
    "da_corr = corr = spearman_correlation(da, da_noise, 'time')\n",
    "da_corr"
   ]
  },
  {
   "cell_type": "markdown",
   "metadata": {},
   "source": [
    "## Masking\n",
    "\n",
    "Indexing methods on xarray objects generally return a subset of the original data. However, it is sometimes useful to select an object with the same shape as the original data, but with some elements masked. To do this type of selection in xarray, use where():"
   ]
  },
  {
   "cell_type": "code",
   "execution_count": null,
   "metadata": {},
   "outputs": [],
   "source": [
    "# mask out 1's in the correlation array\n",
    "\n",
    "da_corr.where(da_corr < 1)"
   ]
  },
  {
   "cell_type": "code",
   "execution_count": null,
   "metadata": {},
   "outputs": [],
   "source": [
    "# xarray also provides a function for where\n",
    "xr.where(da_corr > 0.996, 0, 1)"
   ]
  },
  {
   "cell_type": "code",
   "execution_count": null,
   "metadata": {},
   "outputs": [],
   "source": []
  }
 ],
 "metadata": {
  "kernelspec": {
   "display_name": "Python 3",
   "language": "python",
   "name": "python3"
  },
  "language_info": {
   "codemirror_mode": {
    "name": "ipython",
    "version": 3
   },
   "file_extension": ".py",
   "mimetype": "text/x-python",
   "name": "python",
   "nbconvert_exporter": "python",
   "pygments_lexer": "ipython3",
   "version": "3.6.6"
  }
 },
 "nbformat": 4,
 "nbformat_minor": 2
}
