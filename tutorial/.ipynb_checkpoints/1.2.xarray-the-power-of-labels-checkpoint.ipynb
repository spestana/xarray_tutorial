{
 "cells": [
  {
   "cell_type": "markdown",
   "metadata": {},
   "source": [
    "# The Power of labeled data structures\n",
    "\n",
    "***Purpose: Your data has labels; you should use them***\n",
    "\n",
    "![](images/dataset-diagram.png)\n",
    "\n",
    "Scientific data is inherently labeled. For example, time series data includes timestamps that label individual periods or points in time, spatial data has coordinates (e.g. longitude, latitude, elevation), and model or laboratory experiments are often identified by unique identifiers. The figure above provides an example of a labeled dataset. In this case the data is a map of global air temperature from a numeric weather model. The labels on this particular dataset are time (e.g. “2016-05-01”), longitude (x-axis), and latitude (y-axis).\n",
    "\n",
    "----\n",
    "\n",
    "### Outline\n",
    "- Numpy index (in brief)\n",
    "- Named dimensions/axes\n",
    "- Coordinate labels\n",
    "- Label based indexing\n",
    "- Alignment\n",
    "\n",
    "### Tutorial Duriation\n",
    "10 minutes\n",
    "\n",
    "### Going Further\n",
    "\n",
    "Xarray Documentation on Indexing: http://xarray.pydata.org/en/latest/indexing.html"
   ]
  },
  {
   "cell_type": "code",
   "execution_count": 1,
   "metadata": {},
   "outputs": [],
   "source": [
    "import xarray as xr\n"
   ]
  },
  {
   "cell_type": "code",
   "execution_count": 2,
   "metadata": {},
   "outputs": [
    {
     "data": {
      "text/plain": [
       "<xarray.Dataset>\n",
       "Dimensions:  (lat: 25, lon: 53, time: 2920)\n",
       "Coordinates:\n",
       "  * lat      (lat) float32 75.0 72.5 70.0 67.5 65.0 62.5 60.0 57.5 55.0 52.5 ...\n",
       "  * lon      (lon) float32 200.0 202.5 205.0 207.5 210.0 212.5 215.0 217.5 ...\n",
       "  * time     (time) datetime64[ns] 2013-01-01 2013-01-01T06:00:00 ...\n",
       "Data variables:\n",
       "    air      (time, lat, lon) float32 241.2 242.5 243.5 244.0 244.09999 ...\n",
       "Attributes:\n",
       "    Conventions:  COARDS\n",
       "    title:        4x daily NMC reanalysis (1948)\n",
       "    description:  Data is from NMC initialized reanalysis\\n(4x/day).  These a...\n",
       "    platform:     Model\n",
       "    references:   http://www.esrl.noaa.gov/psd/data/gridded/data.ncep.reanaly..."
      ]
     },
     "execution_count": 2,
     "metadata": {},
     "output_type": "execute_result"
    }
   ],
   "source": [
    "# load a sample dataset\n",
    "ds = xr.tutorial.load_dataset('air_temperature')\n",
    "ds"
   ]
  },
  {
   "cell_type": "markdown",
   "metadata": {},
   "source": [
    "## The old way (numpy positional indexing)\n",
    "\n",
    "When working with numpy, indexing is done by position (slices/ranges/scalars). "
   ]
  },
  {
   "cell_type": "code",
   "execution_count": 3,
   "metadata": {},
   "outputs": [
    {
     "data": {
      "text/plain": [
       "array([[[241.2    , 242.5    , 243.5    , ..., 232.79999, 235.5    ,\n",
       "         238.59999],\n",
       "        [243.79999, 244.5    , 244.7    , ..., 232.79999, 235.29999,\n",
       "         239.29999],\n",
       "        [250.     , 249.79999, 248.89   , ..., 233.2    , 236.39   ,\n",
       "         241.7    ],\n",
       "        ...,\n",
       "        [296.6    , 296.19998, 296.4    , ..., 295.4    , 295.1    ,\n",
       "         294.69998],\n",
       "        [295.9    , 296.19998, 296.79   , ..., 295.9    , 295.9    ,\n",
       "         295.19998],\n",
       "        [296.29   , 296.79   , 297.1    , ..., 296.9    , 296.79   ,\n",
       "         296.6    ]],\n",
       "\n",
       "       [[242.09999, 242.7    , 243.09999, ..., 232.     , 233.59999,\n",
       "         235.79999],\n",
       "        [243.59999, 244.09999, 244.2    , ..., 231.     , 232.5    ,\n",
       "         235.7    ],\n",
       "        [253.2    , 252.89   , 252.09999, ..., 230.79999, 233.39   ,\n",
       "         238.5    ],\n",
       "        ...,\n",
       "        [296.4    , 295.9    , 296.19998, ..., 295.4    , 295.1    ,\n",
       "         294.79   ],\n",
       "        [296.19998, 296.69998, 296.79   , ..., 295.6    , 295.5    ,\n",
       "         295.1    ],\n",
       "        [296.29   , 297.19998, 297.4    , ..., 296.4    , 296.4    ,\n",
       "         296.6    ]],\n",
       "\n",
       "       [[242.29999, 242.2    , 242.29999, ..., 234.29999, 236.09999,\n",
       "         238.7    ],\n",
       "        [244.59999, 244.39   , 244.     , ..., 230.29999, 232.     ,\n",
       "         235.7    ],\n",
       "        [256.19998, 255.5    , 254.2    , ..., 231.2    , 233.2    ,\n",
       "         238.2    ],\n",
       "        ...,\n",
       "        [295.6    , 295.4    , 295.4    , ..., 296.29   , 295.29   ,\n",
       "         295.     ],\n",
       "        [296.19998, 296.5    , 296.29   , ..., 296.4    , 296.     ,\n",
       "         295.6    ],\n",
       "        [296.4    , 296.29   , 296.4    , ..., 297.     , 297.     ,\n",
       "         296.79   ]],\n",
       "\n",
       "       ...,\n",
       "\n",
       "       [[243.48999, 242.98999, 242.09   , ..., 244.18999, 244.48999,\n",
       "         244.89   ],\n",
       "        [249.09   , 248.98999, 248.59   , ..., 240.59   , 241.29   ,\n",
       "         242.68999],\n",
       "        [262.69   , 262.19   , 261.69   , ..., 239.39   , 241.68999,\n",
       "         245.18999],\n",
       "        ...,\n",
       "        [294.79   , 295.29   , 297.49   , ..., 295.49   , 295.38998,\n",
       "         294.69   ],\n",
       "        [296.79   , 297.88998, 298.29   , ..., 295.49   , 295.49   ,\n",
       "         294.79   ],\n",
       "        [298.19   , 299.19   , 298.79   , ..., 296.09   , 295.79   ,\n",
       "         295.79   ]],\n",
       "\n",
       "       [[245.79   , 244.79   , 243.48999, ..., 243.29   , 243.98999,\n",
       "         244.79   ],\n",
       "        [249.89   , 249.29   , 248.48999, ..., 241.29   , 242.48999,\n",
       "         244.29   ],\n",
       "        [262.38998, 261.79   , 261.29   , ..., 240.48999, 243.09   ,\n",
       "         246.89   ],\n",
       "        ...,\n",
       "        [293.69   , 293.88998, 295.38998, ..., 295.09   , 294.69   ,\n",
       "         294.29   ],\n",
       "        [296.29   , 297.19   , 297.59   , ..., 295.29   , 295.09   ,\n",
       "         294.38998],\n",
       "        [297.79   , 298.38998, 298.49   , ..., 295.69   , 295.49   ,\n",
       "         295.19   ]],\n",
       "\n",
       "       [[245.09   , 244.29   , 243.29   , ..., 241.68999, 241.48999,\n",
       "         241.79   ],\n",
       "        [249.89   , 249.29   , 248.39   , ..., 239.59   , 240.29   ,\n",
       "         241.68999],\n",
       "        [262.99   , 262.19   , 261.38998, ..., 239.89   , 242.59   ,\n",
       "         246.29   ],\n",
       "        ...,\n",
       "        [293.79   , 293.69   , 295.09   , ..., 295.29   , 295.09   ,\n",
       "         294.69   ],\n",
       "        [296.09   , 296.88998, 297.19   , ..., 295.69   , 295.69   ,\n",
       "         295.19   ],\n",
       "        [297.69   , 298.09   , 298.09   , ..., 296.49   , 296.19   ,\n",
       "         295.69   ]]], dtype=float32)"
      ]
     },
     "execution_count": 3,
     "metadata": {},
     "output_type": "execute_result"
    }
   ],
   "source": [
    "t = ds['air'].data  # numpy array\n",
    "t"
   ]
  },
  {
   "cell_type": "code",
   "execution_count": 6,
   "metadata": {},
   "outputs": [
    {
     "data": {
      "text/plain": [
       "(2920, 25, 53)"
      ]
     },
     "execution_count": 6,
     "metadata": {},
     "output_type": "execute_result"
    }
   ],
   "source": [
    "t.shape"
   ]
  },
  {
   "cell_type": "code",
   "execution_count": 7,
   "metadata": {},
   "outputs": [
    {
     "data": {
      "text/plain": [
       "array([269.79   , 267.69998, 269.9    , ..., 266.19   , 270.88998,\n",
       "       268.38998], dtype=float32)"
      ]
     },
     "execution_count": 7,
     "metadata": {},
     "output_type": "execute_result"
    }
   ],
   "source": [
    "# extract a time-series for one spatial location\n",
    "t[:, 10, 20]"
   ]
  },
  {
   "cell_type": "markdown",
   "metadata": {},
   "source": [
    "but wait, what labels go with `10` and `20`? Was that lat/lon or lon/lat? Where are the timestamps that go along with this time-series?"
   ]
  },
  {
   "cell_type": "markdown",
   "metadata": {},
   "source": [
    "# Indexing with Xarray\n",
    "\n",
    "xarray offers extremely flexible indexing routines that combine the best features of NumPy and pandas for data selection."
   ]
  },
  {
   "cell_type": "code",
   "execution_count": null,
   "metadata": {},
   "outputs": [],
   "source": [
    "da = ds['air']"
   ]
  },
  {
   "cell_type": "code",
   "execution_count": null,
   "metadata": {},
   "outputs": [],
   "source": [
    "# numpy style indexing still works (but preserves the labels/metadata)\n",
    "da[:, 10, 20]"
   ]
  },
  {
   "cell_type": "code",
   "execution_count": null,
   "metadata": {},
   "outputs": [],
   "source": [
    "# Positional indexing using dimension names\n",
    "da.isel(lat=10, lon=20)"
   ]
  },
  {
   "cell_type": "code",
   "execution_count": null,
   "metadata": {},
   "outputs": [],
   "source": [
    "# Label-based indexing\n",
    "da.sel(lat=50., lon=250.)"
   ]
  },
  {
   "cell_type": "code",
   "execution_count": null,
   "metadata": {},
   "outputs": [],
   "source": [
    "# Nearest neighbor lookups\n",
    "da.sel(lat=52.25, lon=251.8998, method='nearest')"
   ]
  },
  {
   "cell_type": "code",
   "execution_count": null,
   "metadata": {},
   "outputs": [],
   "source": [
    "# all of these indexing methods work on the dataset too, e.g.:\n",
    "ds.sel(lat=52.25, lon=251.8998, method='nearest')"
   ]
  },
  {
   "cell_type": "markdown",
   "metadata": {},
   "source": [
    "## Vectorized indexing\n",
    "\n",
    "Like numpy and pandas, xarray supports indexing many array elements at once in a vectorized manner."
   ]
  },
  {
   "cell_type": "code",
   "execution_count": null,
   "metadata": {},
   "outputs": [],
   "source": [
    "# generate a coordinates for a transect of points\n",
    "lat_points = xr.DataArray([52, 52.5, 53], dims='points')\n",
    "lon_points = xr.DataArray([250, 250, 250], dims='points')"
   ]
  },
  {
   "cell_type": "code",
   "execution_count": null,
   "metadata": {},
   "outputs": [],
   "source": [
    "# nearest neighbor selection along the transect\n",
    "da.sel(lat=lat_points, lon=lon_points, method='nearest')"
   ]
  },
  {
   "cell_type": "markdown",
   "metadata": {},
   "source": [
    "## Alignment\n",
    "\n",
    "xarray enforces alignment between index Coordinates (that is, coordinates with the same name as a dimension, marked by *) on objects used in binary operations."
   ]
  },
  {
   "cell_type": "code",
   "execution_count": null,
   "metadata": {},
   "outputs": [],
   "source": [
    "da"
   ]
  },
  {
   "cell_type": "code",
   "execution_count": null,
   "metadata": {},
   "outputs": [],
   "source": [
    "arr = da.isel(time=0, lat=slice(5, 10), lon=slice(7, 11))\n",
    "arr"
   ]
  },
  {
   "cell_type": "code",
   "execution_count": null,
   "metadata": {},
   "outputs": [],
   "source": [
    "part = arr[:-1]\n",
    "part"
   ]
  },
  {
   "cell_type": "code",
   "execution_count": null,
   "metadata": {},
   "outputs": [],
   "source": [
    "# default behavior is an \"inner join\"\n",
    "(arr + part) / 2"
   ]
  },
  {
   "cell_type": "code",
   "execution_count": null,
   "metadata": {},
   "outputs": [],
   "source": [
    "# we can also use an outer join\n",
    "with xr.set_options(arithmetic_join=\"outer\"):\n",
    "    print((arr + part) / 2)\n",
    "    \n",
    "# notice that missing values (nan) were inserted"
   ]
  },
  {
   "cell_type": "markdown",
   "metadata": {},
   "source": [
    "## Broadcasting\n",
    "\n",
    "DataArray objects are automatically align themselves (“broadcasting” in the numpy parlance) by dimension name instead of axis order. With xarray, you do not need to transpose arrays or insert dimensions of length 1 to get array operations to work, as commonly done in numpy with np.reshape() or np.newaxis."
   ]
  },
  {
   "cell_type": "code",
   "execution_count": null,
   "metadata": {},
   "outputs": [],
   "source": [
    "mults = xr.DataArray([1, 2], [('mult', ['one', 'two'])])\n",
    "mults"
   ]
  },
  {
   "cell_type": "code",
   "execution_count": null,
   "metadata": {},
   "outputs": [],
   "source": [
    "arr * mults"
   ]
  },
  {
   "cell_type": "code",
   "execution_count": null,
   "metadata": {},
   "outputs": [],
   "source": []
  }
 ],
 "metadata": {
  "kernelspec": {
   "display_name": "Python 3",
   "language": "python",
   "name": "python3"
  },
  "language_info": {
   "codemirror_mode": {
    "name": "ipython",
    "version": 3
   },
   "file_extension": ".py",
   "mimetype": "text/x-python",
   "name": "python",
   "nbconvert_exporter": "python",
   "pygments_lexer": "ipython3",
   "version": "3.6.6"
  }
 },
 "nbformat": 4,
 "nbformat_minor": 2
}
