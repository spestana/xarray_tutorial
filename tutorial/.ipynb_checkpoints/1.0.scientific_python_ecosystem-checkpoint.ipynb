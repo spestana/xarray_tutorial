{
 "cells": [
  {
   "cell_type": "markdown",
   "metadata": {},
   "source": [
    "# The Scientific Python Ecosystem\n",
    "\n",
    "The Scientific Python Ecosystem is made up of a robust collection of packages that provide functionality for everything from simple numeric arrays to sophisticated machine learning algorithms. In this notebook, we'll introduce the core scientific python packages and some important terminology.\n",
    "\n",
    "![](images/stack.png)\n",
    "\n",
    "### Outline\n",
    "- Python\n",
    "- Numpy\n",
    "- Scipy\n",
    "- Pandas\n",
    "\n",
    "### Tutorial Duriation\n",
    "10 minutes\n",
    "\n",
    "### Going Further\n",
    "\n",
    "This notebook is just meant to make sure we all have the same base terminology before moving on to the fun `xarray` and `dask`. If you are new to Python or just want to brush up, you may be interested in the following online resources:\n",
    "\n",
    "- Scientific Python Lectures: http://scipy-lectures.org/\n",
    "- Numpy Tutorial: https://docs.scipy.org/doc/numpy-dev/user/quickstart.html\n",
    "- Scipy Tutorial: https://docs.scipy.org/doc/scipy/reference/tutorial/index.html\n",
    "- Pandas Tutorials: https://pandas.pydata.org/pandas-docs/stable/tutorials.html"
   ]
  },
  {
   "cell_type": "markdown",
   "metadata": {},
   "source": [
    "## Python built-ins"
   ]
  },
  {
   "cell_type": "code",
   "execution_count": 1,
   "metadata": {},
   "outputs": [
    {
     "data": {
      "text/plain": [
       "int"
      ]
     },
     "execution_count": 1,
     "metadata": {},
     "output_type": "execute_result"
    }
   ],
   "source": [
    "# data types\n",
    "x = 4\n",
    "type(x)"
   ]
  },
  {
   "cell_type": "code",
   "execution_count": 2,
   "metadata": {},
   "outputs": [
    {
     "data": {
      "text/plain": [
       "float"
      ]
     },
     "execution_count": 2,
     "metadata": {},
     "output_type": "execute_result"
    }
   ],
   "source": [
    "pi = 3.14\n",
    "type(pi)"
   ]
  },
  {
   "cell_type": "code",
   "execution_count": 3,
   "metadata": {},
   "outputs": [
    {
     "data": {
      "text/plain": [
       "str"
      ]
     },
     "execution_count": 3,
     "metadata": {},
     "output_type": "execute_result"
    }
   ],
   "source": [
    "name = 'my string'\n",
    "type(name)"
   ]
  },
  {
   "cell_type": "code",
   "execution_count": 4,
   "metadata": {},
   "outputs": [
    {
     "data": {
      "text/plain": [
       "10"
      ]
     },
     "execution_count": 4,
     "metadata": {},
     "output_type": "execute_result"
    }
   ],
   "source": [
    "# data structures / objects\n",
    "\n",
    "my_list = [2, 4, 10]  # a list\n",
    "\n",
    "my_list[2]  # access by position"
   ]
  },
  {
   "cell_type": "code",
   "execution_count": 5,
   "metadata": {},
   "outputs": [
    {
     "data": {
      "text/plain": [
       "3.14"
      ]
     },
     "execution_count": 5,
     "metadata": {},
     "output_type": "execute_result"
    }
   ],
   "source": [
    "my_dict = {'pi': 3.14, 'd': 4}  # a dictionary\n",
    "\n",
    "\n",
    "my_dict['pi']  # access by key"
   ]
  },
  {
   "cell_type": "markdown",
   "metadata": {},
   "source": [
    "## Numpy\n",
    "\n",
    "NumPy is the fundamental package for scientific computing with Python. It contains among other things:\n",
    "\n",
    "- a powerful N-dimensional array object\n",
    "- sophisticated (broadcasting) functions\n",
    "- tools for integrating C/C++ and Fortran code\n",
    "- useful linear algebra, Fourier transform, and random number capabilities\n",
    "\n",
    "Numpy Documentation: https://docs.scipy.org/doc/numpy/"
   ]
  },
  {
   "cell_type": "code",
   "execution_count": 6,
   "metadata": {},
   "outputs": [],
   "source": [
    "import numpy as np"
   ]
  },
  {
   "cell_type": "code",
   "execution_count": 7,
   "metadata": {},
   "outputs": [
    {
     "data": {
      "text/plain": [
       "array([[0., 0., 0., 0., 0.],\n",
       "       [0., 0., 0., 0., 0.],\n",
       "       [0., 0., 0., 0., 0.],\n",
       "       [0., 0., 0., 0., 0.]])"
      ]
     },
     "execution_count": 7,
     "metadata": {},
     "output_type": "execute_result"
    }
   ],
   "source": [
    "x = np.zeros(shape=(4, 5))\n",
    "x"
   ]
  },
  {
   "cell_type": "code",
   "execution_count": 8,
   "metadata": {},
   "outputs": [
    {
     "data": {
      "text/plain": [
       "array([[4., 4., 4., 4., 4.],\n",
       "       [4., 4., 4., 4., 4.],\n",
       "       [4., 4., 4., 4., 4.],\n",
       "       [4., 4., 4., 4., 4.]])"
      ]
     },
     "execution_count": 8,
     "metadata": {},
     "output_type": "execute_result"
    }
   ],
   "source": [
    "y = x + 4\n",
    "y"
   ]
  },
  {
   "cell_type": "code",
   "execution_count": 9,
   "metadata": {},
   "outputs": [
    {
     "data": {
      "text/plain": [
       "array([[0.17670524, 0.45706153, 0.37068002, 0.60829251, 0.89041037],\n",
       "       [0.51646878, 0.61218885, 0.39475621, 0.12381254, 0.58774489],\n",
       "       [0.76973108, 0.83818912, 0.97771392, 0.56292154, 0.79302364],\n",
       "       [0.37730033, 0.91355679, 0.29141734, 0.85639295, 0.03420799]])"
      ]
     },
     "execution_count": 9,
     "metadata": {},
     "output_type": "execute_result"
    }
   ],
   "source": [
    "# random numbers\n",
    "z = np.random.random(x.shape)\n",
    "z"
   ]
  },
  {
   "cell_type": "code",
   "execution_count": 10,
   "metadata": {},
   "outputs": [
    {
     "data": {
      "text/plain": [
       "array([2.50314967, 2.23497127, 3.94157929, 2.4728754 ])"
      ]
     },
     "execution_count": 10,
     "metadata": {},
     "output_type": "execute_result"
    }
   ],
   "source": [
    "# aggregations\n",
    "z_sum = z.sum(axis=1)\n",
    "z_sum"
   ]
  },
  {
   "cell_type": "code",
   "execution_count": 11,
   "metadata": {},
   "outputs": [
    {
     "data": {
      "text/plain": [
       "array([[10.01259869,  8.93988507, 15.76631717,  9.8915016 ],\n",
       "       [10.01259869,  8.93988507, 15.76631717,  9.8915016 ],\n",
       "       [10.01259869,  8.93988507, 15.76631717,  9.8915016 ],\n",
       "       [10.01259869,  8.93988507, 15.76631717,  9.8915016 ],\n",
       "       [10.01259869,  8.93988507, 15.76631717,  9.8915016 ]])"
      ]
     },
     "execution_count": 11,
     "metadata": {},
     "output_type": "execute_result"
    }
   ],
   "source": [
    "# broadcasting\n",
    "y.transpose() * z_sum"
   ]
  },
  {
   "cell_type": "code",
   "execution_count": 12,
   "metadata": {},
   "outputs": [
    {
     "data": {
      "text/plain": [
       "array([[0.76973108, 0.97771392, 0.79302364],\n",
       "       [0.37730033, 0.29141734, 0.03420799]])"
      ]
     },
     "execution_count": 12,
     "metadata": {},
     "output_type": "execute_result"
    }
   ],
   "source": [
    "# slicing\n",
    "z[2:4, ::2]  # 2-4 on the first axis, stride of 2 on the second"
   ]
  },
  {
   "cell_type": "code",
   "execution_count": null,
   "metadata": {},
   "outputs": [],
   "source": [
    "# data types\n",
    "\n",
    "xi = np.array([1, 2, 3], dtype=np.int)  # integer\n",
    "xi.dtype"
   ]
  },
  {
   "cell_type": "code",
   "execution_count": null,
   "metadata": {},
   "outputs": [],
   "source": [
    "xf = np.array([1, 2, 3], dtype=np.float)  # float\n",
    "xf.dtype"
   ]
  },
  {
   "cell_type": "code",
   "execution_count": null,
   "metadata": {},
   "outputs": [],
   "source": [
    "# universal functions (ufuncs, e.g. sin, cos, exp, etc)\n",
    "np.sin(z_sum)\n"
   ]
  },
  {
   "cell_type": "markdown",
   "metadata": {},
   "source": [
    "### SciPy\n",
    "\n",
    "SciPy is a collection of mathematical algorithms and convenience functions built on the Numpy extension of Python. It adds significant power to the interactive Python session by providing the user with high-level commands and classes for manipulating and visualizing data. SciPy includes a number of subpackages covering different scientific computing domains:\n",
    "\n",
    "| Subpackage | Description|\n",
    "| ------| ------|\n",
    "| cluster |\tClustering algorithms|\n",
    "| constants |\tPhysical and mathematical constants|\n",
    "| fftpack |\tFast Fourier Transform routines|\n",
    "| integrate |\tIntegration and ordinary differential equation solvers|\n",
    "| interpolate |\tInterpolation and smoothing splines|\n",
    "| io |\tInput and Output|\n",
    "| linalg |\tLinear algebra|\n",
    "| ndimage |\tN-dimensional image processing|\n",
    "| odr |\tOrthogonal distance regression|\n",
    "| optimize |\tOptimization and root-finding routines|\n",
    "| signal |\tSignal processing|\n",
    "| sparse |\tSparse matrices and associated routines|\n",
    "| spatial |\tSpatial data structures and algorithms|\n",
    "| special |\tSpecial functions|\n",
    "| stats |\tStatistical distributions and functions\n",
    "\n",
    "Because SciPy is built directly on Numpy, we'll skip any examples for now. The SciPy API is well documented with examples how to use specific subpackages.\n",
    "\n",
    "SciPy Documentation: "
   ]
  },
  {
   "cell_type": "markdown",
   "metadata": {},
   "source": [
    "### Pandas\n",
    "\n",
    "pandas is a Python package providing fast, flexible, and expressive data structures designed to make working with “relational” or “labeled” data both easy and intuitive. It aims to be the fundamental high-level building block for doing practical, real world data analysis in Python.\n",
    "\n",
    "Pandas Documentation: http://pandas.pydata.org/pandas-docs/stable/"
   ]
  },
  {
   "cell_type": "code",
   "execution_count": null,
   "metadata": {},
   "outputs": [],
   "source": [
    "import pandas as pd"
   ]
  },
  {
   "cell_type": "code",
   "execution_count": null,
   "metadata": {},
   "outputs": [],
   "source": [
    "# This data can also be loaded from the statsmodels package\n",
    "# import statsmodels as sm\n",
    "# co2 = sm.datasets.co2.load_pandas().data \n",
    "\n",
    "co2 = pd.read_csv('./data/co2.csv', index_col=0, parse_dates=True)"
   ]
  },
  {
   "cell_type": "code",
   "execution_count": null,
   "metadata": {},
   "outputs": [],
   "source": [
    "# co2 is a pandas.DataFrame\n",
    "co2.head()  # head just prints out the first few rows"
   ]
  },
  {
   "cell_type": "code",
   "execution_count": null,
   "metadata": {},
   "outputs": [],
   "source": [
    "# The pandas DataFrame is made up of an index\n",
    "co2.index"
   ]
  },
  {
   "cell_type": "code",
   "execution_count": null,
   "metadata": {},
   "outputs": [],
   "source": [
    "# and 0 or more columns (in this case just 1 - co2)\n",
    "# Each column is a pandas.Series\n",
    "co2['co2'].head()  \n"
   ]
  },
  {
   "cell_type": "code",
   "execution_count": null,
   "metadata": {},
   "outputs": [],
   "source": [
    "# label based slicing\n",
    "co2['1990-01-01': '1990-02-14']"
   ]
  },
  {
   "cell_type": "code",
   "execution_count": null,
   "metadata": {},
   "outputs": [],
   "source": [
    "# aggregations just like in numpy\n",
    "co2.mean(axis=0)"
   ]
  },
  {
   "cell_type": "code",
   "execution_count": null,
   "metadata": {},
   "outputs": [],
   "source": [
    "# advanced grouping/resampling\n",
    "\n",
    "# here we'll calculate the annual average timeseris of co2 concentraions\n",
    "co2_as = co2.resample('AS').mean()  # AS is for the start of each year\n",
    "\n",
    "co2_as.head()"
   ]
  },
  {
   "cell_type": "code",
   "execution_count": null,
   "metadata": {},
   "outputs": [],
   "source": [
    "# we can also quickly calculate the monthly climatology\n",
    "\n",
    "co2_climatology = co2.groupby(co2.index.month).mean()\n",
    "co2_climatology"
   ]
  },
  {
   "cell_type": "code",
   "execution_count": null,
   "metadata": {},
   "outputs": [],
   "source": [
    "%matplotlib inline\n",
    "\n",
    "# and even plot that using pandas and matplotlib\n",
    "co2_climatology.plot()"
   ]
  },
  {
   "cell_type": "code",
   "execution_count": null,
   "metadata": {},
   "outputs": [],
   "source": []
  }
 ],
 "metadata": {
  "kernelspec": {
   "display_name": "Python 3",
   "language": "python",
   "name": "python3"
  },
  "language_info": {
   "codemirror_mode": {
    "name": "ipython",
    "version": 3
   },
   "file_extension": ".py",
   "mimetype": "text/x-python",
   "name": "python",
   "nbconvert_exporter": "python",
   "pygments_lexer": "ipython3",
   "version": "3.6.6"
  }
 },
 "nbformat": 4,
 "nbformat_minor": 2
}
